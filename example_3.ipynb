{
  "nbformat": 4,
  "nbformat_minor": 0,
  "metadata": {
    "colab": {
      "provenance": [],
      "gpuType": "T4",
      "authorship_tag": "ABX9TyNBM75AcCPxKUjx6Q7+ouM9",
      "include_colab_link": true
    },
    "kernelspec": {
      "name": "python3",
      "display_name": "Python 3"
    },
    "language_info": {
      "name": "python"
    },
    "accelerator": "GPU"
  },
  "cells": [
    {
      "cell_type": "markdown",
      "metadata": {
        "id": "view-in-github",
        "colab_type": "text"
      },
      "source": [
        "<a href=\"https://colab.research.google.com/github/ydg1021/basicRL/blob/main/example_3.ipynb\" target=\"_parent\"><img src=\"https://colab.research.google.com/assets/colab-badge.svg\" alt=\"Open In Colab\"/></a>"
      ]
    },
    {
      "cell_type": "code",
      "execution_count": 1,
      "metadata": {
        "colab": {
          "base_uri": "https://localhost:8080/"
        },
        "id": "zSbmd86_-1U7",
        "outputId": "9285bc95-3167-4cbd-f814-a8208ce7758f"
      },
      "outputs": [
        {
          "output_type": "stream",
          "name": "stdout",
          "text": [
            "Optimal policy:\n",
            "[[0 2 2 1]\n",
            " [0 0 0 1]\n",
            " [0 0 1 1]\n",
            " [0 3 3 0]]\n",
            "Optimal value function:\n",
            "[[ 0. -1. -2. -3.]\n",
            " [-1. -2. -3. -2.]\n",
            " [-2. -3. -2. -1.]\n",
            " [-3. -2. -1.  0.]]\n"
          ]
        }
      ],
      "source": [
        "import numpy as np\n",
        "\n",
        "def value_iteration(transition_probabilities, rewards, gamma, theta=0.0001):\n",
        "    num_states = transition_probabilities.shape[0]\n",
        "    num_actions = transition_probabilities.shape[1]\n",
        "    V = np.zeros(num_states)\n",
        "\n",
        "    while True:\n",
        "        delta = 0\n",
        "        for s in range(num_states):\n",
        "            v = V[s]\n",
        "            V[s] = max([sum([transition_probabilities[s, a, s_prime] *\n",
        "                             (rewards[s, a, s_prime] + gamma * V[s_prime])\n",
        "                             for s_prime in range(num_states)])\n",
        "                        for a in range(num_actions)])\n",
        "            delta = max(delta, abs(v - V[s]))\n",
        "\n",
        "        if delta < theta:\n",
        "            break\n",
        "\n",
        "    policy = np.zeros((num_states, num_actions))\n",
        "    for s in range(num_states):\n",
        "        action_values = np.array([sum([transition_probabilities[s, a, s_prime] *\n",
        "                                       (rewards[s, a, s_prime] + gamma * V[s_prime])\n",
        "                                       for s_prime in range(num_states)])\n",
        "                                  for a in range(num_actions)])\n",
        "        best_action = np.argmax(action_values)\n",
        "        policy[s, best_action] = 1\n",
        "\n",
        "    return policy, V\n",
        "\n",
        "# 환경 설정\n",
        "grid_size = (4, 4)\n",
        "num_states = grid_size[0] * grid_size[1]\n",
        "terminal_states = [(0, 0), (3, 3)]\n",
        "gamma = 1\n",
        "\n",
        "transition_probabilities = np.zeros((num_states, 4, num_states))\n",
        "rewards = np.zeros((num_states, 4, num_states))\n",
        "for s in range(num_states):\n",
        "    for a in range(4):\n",
        "        if (s % grid_size[1], s // grid_size[1]) in terminal_states:\n",
        "            continue\n",
        "        next_s = s\n",
        "        if a == 0 and s // grid_size[1] > 0:  # Up\n",
        "            next_s -= grid_size[1]\n",
        "        elif a == 1 and s // grid_size[1] < grid_size[0] - 1:  # Down\n",
        "            next_s += grid_size[1]\n",
        "        elif a == 2 and s % grid_size[1] > 0:  # Left\n",
        "            next_s -= 1\n",
        "        elif a == 3 and s % grid_size[1] < grid_size[1] - 1:  # Right\n",
        "            next_s += 1\n",
        "        transition_probabilities[s, a, next_s] = 1\n",
        "        rewards[s, a, next_s] = -1\n",
        "\n",
        "# Value Iteration 실행\n",
        "optimal_policy, optimal_value = value_iteration(transition_probabilities, rewards, gamma)\n",
        "\n",
        "print(\"Optimal policy:\")\n",
        "print(np.argmax(optimal_policy, axis=1).reshape(grid_size))\n",
        "print(\"Optimal value function:\")\n",
        "print(optimal_value.reshape(grid_size))\n"
      ]
    }
  ]
}