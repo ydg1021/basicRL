{
  "nbformat": 4,
  "nbformat_minor": 0,
  "metadata": {
    "colab": {
      "provenance": [],
      "authorship_tag": "ABX9TyOpMWX5GFeBR7XgAVuInQzt",
      "include_colab_link": true
    },
    "kernelspec": {
      "name": "python3",
      "display_name": "Python 3"
    },
    "language_info": {
      "name": "python"
    }
  },
  "cells": [
    {
      "cell_type": "markdown",
      "metadata": {
        "id": "view-in-github",
        "colab_type": "text"
      },
      "source": [
        "<a href=\"https://colab.research.google.com/github/ydg1021/basicRL/blob/main/example_MC_prediction.ipynb\" target=\"_parent\"><img src=\"https://colab.research.google.com/assets/colab-badge.svg\" alt=\"Open In Colab\"/></a>"
      ]
    },
    {
      "cell_type": "code",
      "execution_count": 2,
      "metadata": {
        "colab": {
          "base_uri": "https://localhost:8080/"
        },
        "id": "LFX_W8D7Mi-g",
        "outputId": "f4c89804-baed-44e2-9b85-f2b74fb343e9"
      },
      "outputs": [
        {
          "output_type": "execute_result",
          "data": {
            "text/plain": [
              "(array([[  0.        , -14.15930353, -20.2208322 , -22.06673374],\n",
              "        [-14.04073107, -17.71606735, -19.91394789, -20.2676399 ],\n",
              "        [-20.07794317, -19.99566443, -17.98227848, -14.09929997],\n",
              "        [-22.15168727, -20.09666033, -14.2588141 ,   0.        ]]),\n",
              " array([[  0.        , -13.90654206, -19.22486157, -21.52738621],\n",
              "        [-13.84656391, -18.10033892, -19.48047854, -19.51019262],\n",
              "        [-19.52677622, -20.04732971, -17.70907307, -13.70179739],\n",
              "        [-21.37074429, -19.96449657, -13.83895216,   0.        ]]))"
            ]
          },
          "metadata": {},
          "execution_count": 2
        }
      ],
      "source": [
        "import numpy as np\n",
        "\n",
        "class Gridworld:\n",
        "    def __init__(self):\n",
        "        self.grid_size = 4\n",
        "        self.gamma = 1  # 감가율(discount rate)\n",
        "        self.grid = np.zeros((self.grid_size, self.grid_size))\n",
        "        self.terminal_states = [(0, 0), (3, 3)]\n",
        "\n",
        "    def is_terminal_state(self, state):\n",
        "        return state in self.terminal_states\n",
        "\n",
        "    def get_next_state(self, state, action):\n",
        "        \"\"\"\n",
        "        가능한 모든 이동은 동서남북 중 하나입니다. 벽에 부딪힐 경우 현재 위치에 머뭅니다.\n",
        "        \"\"\"\n",
        "        x, y = state\n",
        "        if action == 'up':\n",
        "            x = max(0, x - 1)\n",
        "        elif action == 'down':\n",
        "            x = min(self.grid_size - 1, x + 1)\n",
        "        elif action == 'left':\n",
        "            y = max(0, y - 1)\n",
        "        elif action == 'right':\n",
        "            y = min(self.grid_size - 1, y + 1)\n",
        "        return (x, y)\n",
        "\n",
        "    def get_possible_actions(self, state):\n",
        "        if self.is_terminal_state(state):\n",
        "            return []\n",
        "        return ['up', 'down', 'left', 'right']\n",
        "\n",
        "    def get_reward(self, state):\n",
        "        \"\"\"\n",
        "        각 상태 방문시 -1의 보상을 반환합니다.\n",
        "        \"\"\"\n",
        "        return -1 if not self.is_terminal_state(state) else 0\n",
        "\n",
        "def first_visit_mc_prediction(gridworld, episodes):\n",
        "    value_table = np.zeros((gridworld.grid_size, gridworld.grid_size))\n",
        "    returns = {(i, j): [] for i in range(gridworld.grid_size) for j in range(gridworld.grid_size)}\n",
        "\n",
        "    for _ in range(episodes):\n",
        "        state = (np.random.randint(0, gridworld.grid_size), np.random.randint(0, gridworld.grid_size))\n",
        "        episode = []\n",
        "        while not gridworld.is_terminal_state(state):\n",
        "            action = np.random.choice(gridworld.get_possible_actions(state))\n",
        "            next_state = gridworld.get_next_state(state, action)\n",
        "            reward = gridworld.get_reward(state)\n",
        "            episode.append((state, action, reward))\n",
        "            state = next_state\n",
        "\n",
        "        visited_states = set()\n",
        "        for idx, (state, _, _) in enumerate(episode):\n",
        "            if state not in visited_states:\n",
        "                visited_states.add(state)\n",
        "                G = sum([x[2] * (gridworld.gamma ** i) for i, x in enumerate(episode[idx:])])\n",
        "                returns[state].append(G)\n",
        "                value_table[state] = np.mean(returns[state])\n",
        "\n",
        "    return value_table\n",
        "\n",
        "def every_visit_mc_prediction(gridworld, episodes):\n",
        "    value_table = np.zeros((gridworld.grid_size, gridworld.grid_size))\n",
        "    returns = {(i, j): [] for i in range(gridworld.grid_size) for j in range(gridworld.grid_size)}\n",
        "\n",
        "    for _ in range(episodes):\n",
        "        state = (np.random.randint(0, gridworld.grid_size), np.random.randint(0, gridworld.grid_size))\n",
        "        episode = []\n",
        "        while not gridworld.is_terminal_state(state):\n",
        "            action = np.random.choice(gridworld.get_possible_actions(state))\n",
        "            next_state = gridworld.get_next_state(state, action)\n",
        "            reward = gridworld.get_reward(state)\n",
        "            episode.append((state, action, reward))\n",
        "            state = next_state\n",
        "\n",
        "        for idx, (state, _, _) in enumerate(episode):\n",
        "            G = sum([x[2] * (gridworld.gamma ** i) for i, x in enumerate(episode[idx:])])\n",
        "            returns[state].append(G)\n",
        "            value_table[state] = np.mean(returns[state])\n",
        "\n",
        "    return value_table\n",
        "\n",
        "# 그리드월드 환경을 생성하고 두 알고리즘을 실행합니다.\n",
        "gridworld = Gridworld()\n",
        "episodes = 10000  # 에피소드 수\n",
        "first_visit_values = first_visit_mc_prediction(gridworld, episodes)\n",
        "every_visit_values = every_visit_mc_prediction(gridworld, episodes)\n",
        "\n",
        "first_visit_values, every_visit_values\n"
      ]
    }
  ]
}