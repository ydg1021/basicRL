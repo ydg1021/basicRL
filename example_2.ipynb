{
  "nbformat": 4,
  "nbformat_minor": 0,
  "metadata": {
    "colab": {
      "provenance": [],
      "gpuType": "T4",
      "authorship_tag": "ABX9TyOcakbyU+nlEDXmwYQfaL9q",
      "include_colab_link": true
    },
    "kernelspec": {
      "name": "python3",
      "display_name": "Python 3"
    },
    "language_info": {
      "name": "python"
    },
    "accelerator": "GPU"
  },
  "cells": [
    {
      "cell_type": "markdown",
      "metadata": {
        "id": "view-in-github",
        "colab_type": "text"
      },
      "source": [
        "<a href=\"https://colab.research.google.com/github/ydg1021/basicRL/blob/main/example_2.ipynb\" target=\"_parent\"><img src=\"https://colab.research.google.com/assets/colab-badge.svg\" alt=\"Open In Colab\"/></a>"
      ]
    },
    {
      "cell_type": "code",
      "source": [
        "import numpy as np\n",
        "\n",
        "def iterative_policy_evaluation(policy, transition_probabilities, rewards, gamma, theta=0.0001):\n",
        "    num_states = policy.shape[0]\n",
        "    V = np.zeros(num_states)\n",
        "\n",
        "    while True:\n",
        "        delta = 0\n",
        "        for s in range(num_states):\n",
        "            if (s % grid_size[1], s // grid_size[1]) in terminal_states:\n",
        "                continue  # 터미널 상태는 건너뜁니다.\n",
        "\n",
        "            v = V[s]\n",
        "            V[s] = sum([policy[s, a] * sum([transition_probabilities[s, a, s_prime] *\n",
        "                                            (rewards[s, a, s_prime] + gamma * V[s_prime])\n",
        "                                            for s_prime in range(num_states)])\n",
        "                        for a in range(num_actions)])\n",
        "            delta = max(delta, abs(v - V[s]))\n",
        "\n",
        "        if delta < theta:\n",
        "            break\n",
        "    return V\n",
        "\n",
        "def policy_improvement(policy, V, transition_probabilities, rewards, gamma):\n",
        "    policy_stable = True\n",
        "    new_policy = np.copy(policy)\n",
        "\n",
        "    for s in range(num_states):\n",
        "        old_action = np.argmax(policy[s])\n",
        "        action_values = np.zeros(num_actions)\n",
        "        for a in range(num_actions):\n",
        "            action_values[a] = sum([transition_probabilities[s, a, s_prime] *\n",
        "                                    (rewards[s, a, s_prime] + gamma * V[s_prime])\n",
        "                                    for s_prime in range(num_states)])\n",
        "        best_action = np.argmax(action_values)\n",
        "        new_policy[s] = np.eye(num_actions)[best_action]\n",
        "\n",
        "        if old_action != best_action:\n",
        "            policy_stable = False\n",
        "\n",
        "    return new_policy, policy_stable\n",
        "\n",
        "# 환경 설정\n",
        "grid_size = (4, 4)\n",
        "num_states = grid_size[0] * grid_size[1]\n",
        "num_actions = 4\n",
        "terminal_states = [(0, 0), (3, 3)]\n",
        "gamma = 1\n",
        "\n",
        "transition_probabilities = np.zeros((num_states, num_actions, num_states))\n",
        "rewards = np.zeros((num_states, num_actions, num_states))\n",
        "for s in range(num_states):\n",
        "    for a in range(num_actions):\n",
        "        if (s % grid_size[1], s // grid_size[1]) in terminal_states:\n",
        "            continue\n",
        "        next_s = s\n",
        "        if a == 0 and s // grid_size[1] > 0:  # Up\n",
        "            next_s -= grid_size[1]\n",
        "        elif a == 1 and s // grid_size[1] < grid_size[0] - 1:  # Down\n",
        "            next_s += grid_size[1]\n",
        "        elif a == 2 and s % grid_size[1] > 0:  # Left\n",
        "            next_s -= 1\n",
        "        elif a == 3 and s % grid_size[1] < grid_size[1] - 1:  # Right\n",
        "            next_s += 1\n",
        "        transition_probabilities[s, a, next_s] = 1\n",
        "        rewards[s, a, next_s] = -1\n",
        "\n",
        "# 초기 정책 설정\n",
        "policy = np.ones([num_states, num_actions]) / num_actions\n",
        "\n",
        "# 정책 반복\n",
        "policy_stable = False\n",
        "while not policy_stable:\n",
        "    V = iterative_policy_evaluation(policy, transition_probabilities, rewards, gamma)\n",
        "    policy, policy_stable = policy_improvement(policy, V, transition_probabilities, rewards, gamma)\n",
        "\n",
        "print(\"Optimal policy:\")\n",
        "print(np.argmax(policy, axis=1).reshape(grid_size))\n",
        "print(\"Optimal value function:\")\n",
        "print(V.reshape(grid_size))\n",
        "\n",
        "# 여기서 각 숫자는 상태에서 취할 최적의 행동을 나타냄 (0: 상, 1: 하, 2: 좌, 3: 우)."
      ],
      "metadata": {
        "colab": {
          "base_uri": "https://localhost:8080/"
        },
        "id": "uk5o6gMz3rCs",
        "outputId": "f0ea05e5-b662-4b20-e144-46e357dc3fe6"
      },
      "execution_count": 17,
      "outputs": [
        {
          "output_type": "stream",
          "name": "stdout",
          "text": [
            "Optimal policy:\n",
            "[[0 2 2 1]\n",
            " [0 0 0 1]\n",
            " [0 0 1 1]\n",
            " [0 3 3 0]]\n",
            "Optimal value function:\n",
            "[[ 0. -1. -2. -3.]\n",
            " [-1. -2. -3. -2.]\n",
            " [-2. -3. -2. -1.]\n",
            " [-3. -2. -1.  0.]]\n"
          ]
        }
      ]
    }
  ]
}